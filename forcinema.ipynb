{
  "nbformat": 4,
  "nbformat_minor": 0,
  "metadata": {
    "colab": {
      "name": "forcinema.ipynb",
      "provenance": [],
      "collapsed_sections": []
    },
    "kernelspec": {
      "name": "python3",
      "display_name": "Python 3"
    },
    "language_info": {
      "name": "python"
    }
  },
  "cells": [
    {
      "cell_type": "markdown",
      "metadata": {
        "id": "vQzIWi4p3rZs"
      },
      "source": [
        "\n",
        "# Определение вероятной оценки фильма\n",
        "\n",
        "\n",
        "## Цель проекта:\n",
        "Найти взаимосвязь между рейтинговой оценкой фильма и его аннотацией, актерским составом, сценаристами.\n",
        "\n",
        "## Гипотеза:\n",
        "Мы предполагаем, что существует связь между рейтинговой оценкой фильма и его аннотацией, актерским составом, сценаристами.\n",
        "\n",
        "## Описание проделанной работы:\n",
        "\n",
        "### 1) Определение датасета и получение кратких сведений\n",
        "\n",
        "### 2) Разведочный анализ\n",
        "\n",
        "### 3) Токенезация, удаление знаков пунктуации, лемматизация значений столбца аннотаций\n",
        "\n",
        "### 4) Частотный анализ слов в аннотациях\n",
        "\n",
        "### 5) Выделение главных тематик топа фильмов\n",
        "\n",
        "### 6) Обучение с учителем\n",
        "\n"
      ]
    },
    {
      "cell_type": "markdown",
      "metadata": {
        "id": "rzfcKMOMPjOw"
      },
      "source": [
        "## #Установка и импортирование библиотек\n"
      ]
    },
    {
      "cell_type": "code",
      "metadata": {
        "id": "weu8Y-Bx2mDR"
      },
      "source": [
        "!pip install pymorphy2 \n",
        "!pip install pyLDAvis "
      ],
      "execution_count": null,
      "outputs": []
    },
    {
      "cell_type": "code",
      "metadata": {
        "id": "U8rix2T6Oodu"
      },
      "source": [
        "# импортирование библиотеки pandas для работы с объетками DataFrames \n",
        "import pandas as pd \n",
        "\n",
        "# имортирование библиотек для обработки текста\n",
        "import pymorphy2 # импортирование библиотеки для лемматизации русских слов\n",
        "from nltk.tokenize import word_tokenize # импортирование токенайзера\n",
        "\n",
        "from nltk import download\n",
        "from nltk.corpus import stopwords # импортирование объекта со списком стоп слов\n",
        "from string import punctuation # импортирование строки с символами пунктуации\n",
        "\n",
        "# импортирование векторайзера для матрицы совместной встречаемости\n",
        "from sklearn.feature_extraction.text import CountVectorizer, TfidfVectorizer\n",
        "\n",
        "from sklearn.decomposition import TruncatedSVD\n",
        "\n",
        "import numpy as np\n",
        "\n",
        "import matplotlib.pyplot as plt\n",
        "\n",
        "download(\"stopwords\") # загрузка дополнительного пакета stopwords\n",
        "download('punkt') #загрузка дополнительного пакета punkt"
      ],
      "execution_count": null,
      "outputs": []
    },
    {
      "cell_type": "code",
      "metadata": {
        "id": "Gh9Chg040wdm"
      },
      "source": [
        "from sklearn.model_selection import train_test_split, StratifiedKFold\n",
        "from sklearn.neighbors import KNeighborsClassifier\n",
        "from sklearn.tree import DecisionTreeRegressor\n",
        "from sklearn.linear_model import LinearRegression\n",
        "from sklearn.metrics import mean_absolute_error"
      ],
      "execution_count": null,
      "outputs": []
    },
    {
      "cell_type": "markdown",
      "metadata": {
        "id": "_ommuDuZywA6"
      },
      "source": [
        "## Определение датасета и краткая информация о нём"
      ]
    },
    {
      "cell_type": "code",
      "metadata": {
        "id": "g8NCxAAmPFv8"
      },
      "source": [
        "FILE_PATH = \"kinopoisk-top250.csv\""
      ],
      "execution_count": null,
      "outputs": []
    },
    {
      "cell_type": "code",
      "metadata": {
        "id": "BPVdw9hbSHw_",
        "colab": {
          "base_uri": "https://localhost:8080/",
          "height": 192
        },
        "outputId": "a74b3da9-8d95-47f8-c96b-0211c433fa38"
      },
      "source": [
        "data_frame = pd.read_csv(FILE_PATH)  \n",
        "data_frame.head(3)"
      ],
      "execution_count": null,
      "outputs": [
        {
          "output_type": "execute_result",
          "data": {
            "text/html": [
              "<div>\n",
              "<style scoped>\n",
              "    .dataframe tbody tr th:only-of-type {\n",
              "        vertical-align: middle;\n",
              "    }\n",
              "\n",
              "    .dataframe tbody tr th {\n",
              "        vertical-align: top;\n",
              "    }\n",
              "\n",
              "    .dataframe thead th {\n",
              "        text-align: right;\n",
              "    }\n",
              "</style>\n",
              "<table border=\"1\" class=\"dataframe\">\n",
              "  <thead>\n",
              "    <tr style=\"text-align: right;\">\n",
              "      <th></th>\n",
              "      <th>rating</th>\n",
              "      <th>movie</th>\n",
              "      <th>year</th>\n",
              "      <th>country</th>\n",
              "      <th>rating_ball</th>\n",
              "      <th>overview</th>\n",
              "      <th>director</th>\n",
              "      <th>screenwriter</th>\n",
              "      <th>actors</th>\n",
              "      <th>url_logo</th>\n",
              "    </tr>\n",
              "  </thead>\n",
              "  <tbody>\n",
              "    <tr>\n",
              "      <th>0</th>\n",
              "      <td>0</td>\n",
              "      <td>Побег из Шоушенка</td>\n",
              "      <td>1994</td>\n",
              "      <td>США</td>\n",
              "      <td>9.111</td>\n",
              "      <td>Бухгалтер Энди Дюфрейн обвинён в убийстве собс...</td>\n",
              "      <td>Фрэнк Дарабонт</td>\n",
              "      <td>Фрэнк Дарабонт;  Стивен Кинг</td>\n",
              "      <td>Тим Роббинс; Морган Фриман; Боб Гантон; Уильям...</td>\n",
              "      <td>'https://st.kp.yandex.net/images/film_iphone/i...</td>\n",
              "    </tr>\n",
              "    <tr>\n",
              "      <th>1</th>\n",
              "      <td>1</td>\n",
              "      <td>Зеленая миля</td>\n",
              "      <td>1999</td>\n",
              "      <td>США</td>\n",
              "      <td>9.062</td>\n",
              "      <td>Пол Эджкомб — начальник блока смертников в тюр...</td>\n",
              "      <td>Фрэнк Дарабонт</td>\n",
              "      <td>Фрэнк Дарабонт;  Стивен Кинг</td>\n",
              "      <td>Том Хэнкс; Дэвид Морс; Бонни Хант; Майкл Кларк...</td>\n",
              "      <td>'https://st.kp.yandex.net/images/film_iphone/i...</td>\n",
              "    </tr>\n",
              "    <tr>\n",
              "      <th>2</th>\n",
              "      <td>2</td>\n",
              "      <td>Форрест Гамп</td>\n",
              "      <td>1994</td>\n",
              "      <td>США</td>\n",
              "      <td>8.913</td>\n",
              "      <td>От лица главного героя Форреста Гампа; слабоум...</td>\n",
              "      <td>Роберт Земекис</td>\n",
              "      <td>Эрик Рот;  Уинстон Грум</td>\n",
              "      <td>Том Хэнкс; Робин Райт; Салли Филд; Гэри Синиз;...</td>\n",
              "      <td>'https://st.kp.yandex.net/images/film_iphone/i...</td>\n",
              "    </tr>\n",
              "  </tbody>\n",
              "</table>\n",
              "</div>"
            ],
            "text/plain": [
              "   rating  ...                                           url_logo\n",
              "0       0  ...  'https://st.kp.yandex.net/images/film_iphone/i...\n",
              "1       1  ...  'https://st.kp.yandex.net/images/film_iphone/i...\n",
              "2       2  ...  'https://st.kp.yandex.net/images/film_iphone/i...\n",
              "\n",
              "[3 rows x 10 columns]"
            ]
          },
          "metadata": {
            "tags": []
          },
          "execution_count": 45
        }
      ]
    },
    {
      "cell_type": "markdown",
      "metadata": {
        "id": "Tg2YqPto-dap"
      },
      "source": [
        "**Видно, что данный датасет содержит 10 характеристик 250-ти лучших фильмов данного сервиса** "
      ]
    },
    {
      "cell_type": "markdown",
      "metadata": {
        "id": "WLFxkp878n8a"
      }
    },
    {
      "cell_type": "code",
      "metadata": {
        "colab": {
          "base_uri": "https://localhost:8080/",
          "height": 296
        },
        "id": "7tkktC700vMS",
        "outputId": "52c3cb63-06ae-4e94-c8d0-a2ed4bc84e13"
      },
      "source": [
        "data_frame.describe() # вывод краткой информации о столбцах с числовыми значениями"
      ],
      "execution_count": null,
      "outputs": [
        {
          "output_type": "execute_result",
          "data": {
            "text/html": [
              "<div>\n",
              "<style scoped>\n",
              "    .dataframe tbody tr th:only-of-type {\n",
              "        vertical-align: middle;\n",
              "    }\n",
              "\n",
              "    .dataframe tbody tr th {\n",
              "        vertical-align: top;\n",
              "    }\n",
              "\n",
              "    .dataframe thead th {\n",
              "        text-align: right;\n",
              "    }\n",
              "</style>\n",
              "<table border=\"1\" class=\"dataframe\">\n",
              "  <thead>\n",
              "    <tr style=\"text-align: right;\">\n",
              "      <th></th>\n",
              "      <th>rating</th>\n",
              "      <th>year</th>\n",
              "      <th>rating_ball</th>\n",
              "    </tr>\n",
              "  </thead>\n",
              "  <tbody>\n",
              "    <tr>\n",
              "      <th>count</th>\n",
              "      <td>250.000000</td>\n",
              "      <td>250.000000</td>\n",
              "      <td>250.000000</td>\n",
              "    </tr>\n",
              "    <tr>\n",
              "      <th>mean</th>\n",
              "      <td>124.500000</td>\n",
              "      <td>1991.736000</td>\n",
              "      <td>8.231444</td>\n",
              "    </tr>\n",
              "    <tr>\n",
              "      <th>std</th>\n",
              "      <td>72.312977</td>\n",
              "      <td>19.015168</td>\n",
              "      <td>0.230376</td>\n",
              "    </tr>\n",
              "    <tr>\n",
              "      <th>min</th>\n",
              "      <td>0.000000</td>\n",
              "      <td>1921.000000</td>\n",
              "      <td>7.806000</td>\n",
              "    </tr>\n",
              "    <tr>\n",
              "      <th>25%</th>\n",
              "      <td>62.250000</td>\n",
              "      <td>1980.000000</td>\n",
              "      <td>8.063500</td>\n",
              "    </tr>\n",
              "    <tr>\n",
              "      <th>50%</th>\n",
              "      <td>124.500000</td>\n",
              "      <td>1997.500000</td>\n",
              "      <td>8.169000</td>\n",
              "    </tr>\n",
              "    <tr>\n",
              "      <th>75%</th>\n",
              "      <td>186.750000</td>\n",
              "      <td>2005.000000</td>\n",
              "      <td>8.355750</td>\n",
              "    </tr>\n",
              "    <tr>\n",
              "      <th>max</th>\n",
              "      <td>249.000000</td>\n",
              "      <td>2019.000000</td>\n",
              "      <td>9.111000</td>\n",
              "    </tr>\n",
              "  </tbody>\n",
              "</table>\n",
              "</div>"
            ],
            "text/plain": [
              "           rating         year  rating_ball\n",
              "count  250.000000   250.000000   250.000000\n",
              "mean   124.500000  1991.736000     8.231444\n",
              "std     72.312977    19.015168     0.230376\n",
              "min      0.000000  1921.000000     7.806000\n",
              "25%     62.250000  1980.000000     8.063500\n",
              "50%    124.500000  1997.500000     8.169000\n",
              "75%    186.750000  2005.000000     8.355750\n",
              "max    249.000000  2019.000000     9.111000"
            ]
          },
          "metadata": {
            "tags": []
          },
          "execution_count": 40
        }
      ]
    },
    {
      "cell_type": "markdown",
      "metadata": {
        "id": "aCOUlDowRPjf"
      },
      "source": [
        "## Разведочный анализ"
      ]
    },
    {
      "cell_type": "code",
      "metadata": {
        "id": "40__y2LNTXEn",
        "colab": {
          "base_uri": "https://localhost:8080/",
          "height": 141
        },
        "outputId": "8eac5dab-4e22-4cb7-8145-8fdb770cc77f"
      },
      "source": [
        "data_frame = data_frame.drop(columns=[\"url_logo\",\"rating\"])"
      ],
      "execution_count": null,
      "outputs": [
        {
          "output_type": "execute_result",
          "data": {
            "text/html": [
              "<div>\n",
              "<style scoped>\n",
              "    .dataframe tbody tr th:only-of-type {\n",
              "        vertical-align: middle;\n",
              "    }\n",
              "\n",
              "    .dataframe tbody tr th {\n",
              "        vertical-align: top;\n",
              "    }\n",
              "\n",
              "    .dataframe thead th {\n",
              "        text-align: right;\n",
              "    }\n",
              "</style>\n",
              "<table border=\"1\" class=\"dataframe\">\n",
              "  <thead>\n",
              "    <tr style=\"text-align: right;\">\n",
              "      <th></th>\n",
              "      <th>movie</th>\n",
              "      <th>year</th>\n",
              "      <th>country</th>\n",
              "      <th>rating_ball</th>\n",
              "      <th>overview</th>\n",
              "      <th>director</th>\n",
              "      <th>screenwriter</th>\n",
              "      <th>actors</th>\n",
              "    </tr>\n",
              "  </thead>\n",
              "  <tbody>\n",
              "    <tr>\n",
              "      <th>0</th>\n",
              "      <td>Побег из Шоушенка</td>\n",
              "      <td>1994</td>\n",
              "      <td>США</td>\n",
              "      <td>9.111</td>\n",
              "      <td>Бухгалтер Энди Дюфрейн обвинён в убийстве собс...</td>\n",
              "      <td>Фрэнк Дарабонт</td>\n",
              "      <td>Фрэнк Дарабонт;  Стивен Кинг</td>\n",
              "      <td>Тим Роббинс; Морган Фриман; Боб Гантон; Уильям...</td>\n",
              "    </tr>\n",
              "    <tr>\n",
              "      <th>1</th>\n",
              "      <td>Зеленая миля</td>\n",
              "      <td>1999</td>\n",
              "      <td>США</td>\n",
              "      <td>9.062</td>\n",
              "      <td>Пол Эджкомб — начальник блока смертников в тюр...</td>\n",
              "      <td>Фрэнк Дарабонт</td>\n",
              "      <td>Фрэнк Дарабонт;  Стивен Кинг</td>\n",
              "      <td>Том Хэнкс; Дэвид Морс; Бонни Хант; Майкл Кларк...</td>\n",
              "    </tr>\n",
              "    <tr>\n",
              "      <th>2</th>\n",
              "      <td>Форрест Гамп</td>\n",
              "      <td>1994</td>\n",
              "      <td>США</td>\n",
              "      <td>8.913</td>\n",
              "      <td>От лица главного героя Форреста Гампа; слабоум...</td>\n",
              "      <td>Роберт Земекис</td>\n",
              "      <td>Эрик Рот;  Уинстон Грум</td>\n",
              "      <td>Том Хэнкс; Робин Райт; Салли Филд; Гэри Синиз;...</td>\n",
              "    </tr>\n",
              "  </tbody>\n",
              "</table>\n",
              "</div>"
            ],
            "text/plain": [
              "                movie  ...                                             actors\n",
              "0  Побег из Шоушенка   ...  Тим Роббинс; Морган Фриман; Боб Гантон; Уильям...\n",
              "1       Зеленая миля   ...  Том Хэнкс; Дэвид Морс; Бонни Хант; Майкл Кларк...\n",
              "2       Форрест Гамп   ...  Том Хэнкс; Робин Райт; Салли Филд; Гэри Синиз;...\n",
              "\n",
              "[3 rows x 8 columns]"
            ]
          },
          "metadata": {
            "tags": []
          },
          "execution_count": 52
        }
      ]
    },
    {
      "cell_type": "markdown",
      "metadata": {
        "id": "zFtED2fQ-BP2"
      }
    },
    {
      "cell_type": "code",
      "metadata": {
        "id": "d7OA2LU7T73H"
      },
      "source": [
        "years_frequency = data_frame[\"year\"].value_counts() # запись частотности годов\n",
        "\n",
        "years = years_frequency.keys() \n",
        "frequency = years_frequency.values"
      ],
      "execution_count": null,
      "outputs": []
    },
    {
      "cell_type": "code",
      "metadata": {
        "colab": {
          "base_uri": "https://localhost:8080/",
          "height": 504
        },
        "id": "6Kq4IdjB6Akg",
        "outputId": "b2c37512-032d-4570-b52e-af00129ab656"
      },
      "source": [
        "fig, axes = plt.subplots(figsize = (16, 8)) # Создание графика и определение его размеров\n",
        "axes.bar(years,frequency) # Определение метрик для графика (x,y) \n",
        "axes.set_title(\"Частотность выхода фильмов\", fontsize=20) # Определение название графика\n",
        "axes.grid(True) # Определение сетки для графика, для лучшей читабильности"
      ],
      "execution_count": null,
      "outputs": [
        {
          "output_type": "display_data",
          "data": {
            "image/png": "[encoded data removed]",
            "text/plain": [
              "<Figure size 1152x576 with 1 Axes>"
            ]
          },
          "metadata": {
            "tags": [],
            "needs_background": "light"
          }
        }
      ]
    },
    {
      "cell_type": "markdown",
      "metadata": {
        "id": "8Rlr9bEq_4mF"
      }
    },
    {
      "cell_type": "code",
      "metadata": {
        "id": "QKRYVjLhDA-U"
      },
      "source": [
        "countries = data_frame[\"country\"] # Запись значений со столбца Country\n",
        "\n",
        "def country_counter(countries):\n",
        "  counter = {}\n",
        "  for sample in countries:\n",
        "    if sample in counter:\n",
        "      counter[sample] += 1\n",
        "    else:\n",
        "      counter[sample] = 1\n",
        "  return counter\n",
        "\n",
        "counter = country_counter(countries) # словарь - счетчик встречаемости стран \n"
      ],
      "execution_count": null,
      "outputs": []
    },
    {
      "cell_type": "code",
      "metadata": {
        "colab": {
          "base_uri": "https://localhost:8080/",
          "height": 378
        },
        "id": "BtXBS5xKdeFE",
        "outputId": "7aaf1749-5fb9-42ad-8c54-906669cf8bde"
      },
      "source": [
        "countries = list(counter.keys())[:5] # Список 5-ти самых встречаемых стран в кинопроизводстве топ-250 картин\n",
        "film_number = list(counter.values())[:5] # Количество встреч 5-ти самых встречаемых стран в кинопроизводстве топ-250 картин\n",
        "\n",
        "fig2, axes2 = plt.subplots(figsize=(6,6)) # Определение графика и  его размеров\n",
        "explode = (0,0,0.1,0,0) # Определение расстояния долей от центра pie графика \n",
        "axes2.pie(film_number, explode = explode, labels = countries, autopct=\"%1.1f%%\") # Определение графика, как pie график и вставка метрик с параметрами отображения \n",
        "axes2.set_title(\"Соотношение кол-ва производства фильмов между разными странами\",fontsize = 20) # Определение название графика\n",
        "plt.show() # Вывод графика"
      ],
      "execution_count": null,
      "outputs": [
        {
          "output_type": "display_data",
          "data": {
            "image/png": "[encoded data removed]",
            "text/plain": [
              "<Figure size 432x432 with 1 Axes>"
            ]
          },
          "metadata": {
            "tags": []
          }
        }
      ]
    },
    {
      "cell_type": "markdown",
      "metadata": {
        "id": "PL4Wr6IhOtJA"
      },
      "source": [
        "## Токенезация, удаление знаков пунктуации, лемматизация значений столбца overview"
      ]
    },
    {
      "cell_type": "code",
      "metadata": {
        "id": "BvQMvyT3O7-i"
      },
      "source": [
        "# Конвертирование строки пунктуационных символов во множество\n",
        "punct = set(punctuation)\n",
        "punct.update({\"«\", \"—\",\"»\", \"…\", \"...\"})\n",
        "ru_stop = set(stopwords.words(\"russian\"))\n",
        "ru_stop.update({\"её\",\"оба\",\"обе\",\"который\",\"свой\",\"это\",\"весь\",\"то\",\"всё\",\"самый\"})\n",
        "\n",
        "# Определяем объект MorphAnalyzer\n",
        "morpheus = pymorphy2.MorphAnalyzer() "
      ],
      "execution_count": null,
      "outputs": []
    },
    {
      "cell_type": "code",
      "metadata": {
        "id": "_pSBdW13PXdK"
      },
      "source": [
        "overviews = data_frame[\"overview\"] # записываем в переменную контент колонки overvew "
      ],
      "execution_count": null,
      "outputs": []
    },
    {
      "cell_type": "code",
      "metadata": {
        "id": "3gLIbaRLQDJn"
      },
      "source": [
        "column_title = \"setting\"\n",
        "data_frame[column_title] = \"\" # создание новой колонки с именем setting\n",
        "\n",
        "def overviews_to_settings(overviews, column_title):\n",
        "  string = 0\n",
        "  for sample in overviews:\n",
        "    counter = {} # словарь-счетчик слов каждого sample\n",
        "    for word in word_tokenize(sample, language = \"russian\"): #токенизирование sample \n",
        "      if word[-1] == \"…\": # Фильтр для очистки токенизированных слов от многоточия в конце (пример: \"славе…\" --> \"славе\")\n",
        "        word = word[:-1]\n",
        "      word = morpheus.parse(word)[0].normalized.word # Лемматизируем слово\n",
        "      if not(word in ru_stop or word in punct): \n",
        "        if word in counter:\n",
        "          counter[word] += 1\n",
        "        else:\n",
        "          counter[word] = 1\n",
        "    data_frame[column_title][string] = counter\n",
        "    string += 1 \n",
        "\n",
        "overviews_to_settings(overviews, column_title)"
      ],
      "execution_count": null,
      "outputs": []
    },
    {
      "cell_type": "code",
      "metadata": {
        "id": "hqRvUAm0zkLi",
        "colab": {
          "base_uri": "https://localhost:8080/",
          "height": 141
        },
        "outputId": "c710e02d-449b-4d50-be4e-e547e71c15cb"
      },
      "source": [
        "data_frame = data_frame.drop(columns = (\"overview\"))\n",
        "data_frame.head(3)\n"
      ],
      "execution_count": null,
      "outputs": [
        {
          "output_type": "execute_result",
          "data": {
            "text/html": [
              "<div>\n",
              "<style scoped>\n",
              "    .dataframe tbody tr th:only-of-type {\n",
              "        vertical-align: middle;\n",
              "    }\n",
              "\n",
              "    .dataframe tbody tr th {\n",
              "        vertical-align: top;\n",
              "    }\n",
              "\n",
              "    .dataframe thead th {\n",
              "        text-align: right;\n",
              "    }\n",
              "</style>\n",
              "<table border=\"1\" class=\"dataframe\">\n",
              "  <thead>\n",
              "    <tr style=\"text-align: right;\">\n",
              "      <th></th>\n",
              "      <th>movie</th>\n",
              "      <th>year</th>\n",
              "      <th>country</th>\n",
              "      <th>rating_ball</th>\n",
              "      <th>director</th>\n",
              "      <th>screenwriter</th>\n",
              "      <th>actors</th>\n",
              "      <th>setting</th>\n",
              "    </tr>\n",
              "  </thead>\n",
              "  <tbody>\n",
              "    <tr>\n",
              "      <th>0</th>\n",
              "      <td>Побег из Шоушенка</td>\n",
              "      <td>1994</td>\n",
              "      <td>США</td>\n",
              "      <td>9.111</td>\n",
              "      <td>Фрэнк Дарабонт</td>\n",
              "      <td>Фрэнк Дарабонт;  Стивен Кинг</td>\n",
              "      <td>Тим Роббинс; Морган Фриман; Боб Гантон; Уильям...</td>\n",
              "      <td>{'бухгалтер': 1, 'энди': 2, 'дюфрейн': 1, 'обв...</td>\n",
              "    </tr>\n",
              "    <tr>\n",
              "      <th>1</th>\n",
              "      <td>Зеленая миля</td>\n",
              "      <td>1999</td>\n",
              "      <td>США</td>\n",
              "      <td>9.062</td>\n",
              "      <td>Фрэнк Дарабонт</td>\n",
              "      <td>Фрэнк Дарабонт;  Стивен Кинг</td>\n",
              "      <td>Том Хэнкс; Дэвид Морс; Бонни Хант; Майкл Кларк...</td>\n",
              "      <td>{'пол': 2, 'эджкомба': 1, 'начальник': 1, 'бло...</td>\n",
              "    </tr>\n",
              "    <tr>\n",
              "      <th>2</th>\n",
              "      <td>Форрест Гамп</td>\n",
              "      <td>1994</td>\n",
              "      <td>США</td>\n",
              "      <td>8.913</td>\n",
              "      <td>Роберт Земекис</td>\n",
              "      <td>Эрик Рот;  Уинстон Грум</td>\n",
              "      <td>Том Хэнкс; Робин Райт; Салли Филд; Гэри Синиз;...</td>\n",
              "      <td>{'лицо': 1, 'главное': 1, 'герой': 2, 'форрест...</td>\n",
              "    </tr>\n",
              "  </tbody>\n",
              "</table>\n",
              "</div>"
            ],
            "text/plain": [
              "                movie  ...                                            setting\n",
              "0  Побег из Шоушенка   ...  {'бухгалтер': 1, 'энди': 2, 'дюфрейн': 1, 'обв...\n",
              "1       Зеленая миля   ...  {'пол': 2, 'эджкомба': 1, 'начальник': 1, 'бло...\n",
              "2       Форрест Гамп   ...  {'лицо': 1, 'главное': 1, 'герой': 2, 'форрест...\n",
              "\n",
              "[3 rows x 8 columns]"
            ]
          },
          "metadata": {
            "tags": []
          },
          "execution_count": 57
        }
      ]
    },
    {
      "cell_type": "markdown",
      "metadata": {
        "id": "mftPvOc1hH7M"
      },
      "source": [
        "## Частотный анализ\n"
      ]
    },
    {
      "cell_type": "code",
      "metadata": {
        "id": "CPjN2FRvhMdD"
      },
      "source": [
        "def sentence_cleaner(sample): # функция, убирающая стоп слова и знаки препинания, а также леммантизирующая оставшиеся слова \n",
        "  new_sentence = \"\"\n",
        "  for word in word_tokenize(sample):\n",
        "    if word[-1] == \"…\":\n",
        "      word = word[:-1]\n",
        "    word = morpheus.parse(word)[0].normalized.word\n",
        "    if not(word in punct or word in ru_stop):\n",
        "       new_sentence += word + \" \"\n",
        "  return new_sentence\n",
        "\n",
        "cleared_sentences = [sentence_cleaner(sample) for sample in overviews] \n"
      ],
      "execution_count": null,
      "outputs": []
    },
    {
      "cell_type": "code",
      "metadata": {
        "id": "xOoQR_qNmAim"
      },
      "source": [
        "word_vectorizer = CountVectorizer() \n",
        "\n",
        "word_vectorizer.fit(cleared_sentences) \n",
        "\n",
        "table_content = word_vectorizer.transform(cleared_sentences) \n"
      ],
      "execution_count": null,
      "outputs": []
    },
    {
      "cell_type": "code",
      "metadata": {
        "id": "0oE_fkorrc-8"
      },
      "source": [
        "terms = word_vectorizer.get_feature_names() \n",
        "words_amounts = table_content.toarray().sum(axis=0) \n",
        "\n",
        "all_samples_counter = dict(zip(terms, words_amounts))\n",
        "all_samples_counter = pd.Series(all_samples_counter) \n",
        "all_samples_counter = all_samples_counter.sort_values(ascending = False) "
      ],
      "execution_count": null,
      "outputs": []
    },
    {
      "cell_type": "code",
      "metadata": {
        "colab": {
          "base_uri": "https://localhost:8080/",
          "height": 294
        },
        "id": "Fkq4RWxdr4LF",
        "outputId": "f0012b1d-7a49-4939-b356-15cf5435f1ab"
      },
      "source": [
        "top_10 = all_samples_counter.iloc[:10]  \n",
        "\n",
        "fig3, axis3 = plt.subplots() \n",
        "fig3.suptitle(\"Топ 10 встречаемых слов\")\n",
        "axis3.barh(top_10.index, top_10.values) \n",
        "axis3.grid(True) "
      ],
      "execution_count": null,
      "outputs": [
        {
          "output_type": "display_data",
          "data": {
            "image/png": "[encoded data removed]",
            "text/plain": [
              "<Figure size 432x288 with 1 Axes>"
            ]
          },
          "metadata": {
            "tags": [],
            "needs_background": "light"
          }
        }
      ]
    },
    {
      "cell_type": "markdown",
      "metadata": {
        "id": "k7Z9r_cd01XH"
      },
      "source": [
        "## Обучение с учителем\n"
      ]
    },
    {
      "cell_type": "markdown",
      "metadata": {
        "id": "pSj5yTO5dQGK"
      },
      "source": [
        "Для поставленной задачи был выбран алгоритм рандомного дерева DecisionTreeRegressor, оценка качества модели производилась mean_absolute_error."
      ]
    },
    {
      "cell_type": "code",
      "metadata": {
        "id": "RoCqz-xD07u7"
      },
      "source": [
        "y=data_frame['rating_ball']\n",
        "x=data_frame['setting']\n",
        "\n",
        "def f_p(x):\n",
        "  elements = [element for element  in x]\n",
        "  return ' '.join(elements)\n",
        "\n",
        "x = x.apply(f_p)\n",
        "\n",
        "# переводим строковой X в векторный вид\n",
        "vectorizer = TfidfVectorizer()\n",
        "X=vectorizer.fit_transform(x)"
      ],
      "execution_count": null,
      "outputs": []
    },
    {
      "cell_type": "code",
      "metadata": {
        "id": "OJNWkNrhmDmx"
      },
      "source": [
        "# разбиваем X и y на тренировочные и тестовые данные\n",
        "#test_size- выделяет для тестового набора 30%\n",
        "# Суть параметра random_state (во всех функциях и методах из SciKit-Learn) в воспроизводимых случайных значениях. \n",
        "# Т.е. если явно задать значение random_state отличным от None - то генерируемые псевдослучайные величины будут иметь одни и те же значения при каждом вызове.\n",
        "X_train, X_holdout, y_train, y_holdout = train_test_split(X, y, test_size=0.3,random_state=17)"
      ],
      "execution_count": null,
      "outputs": []
    },
    {
      "cell_type": "code",
      "metadata": {
        "colab": {
          "base_uri": "https://localhost:8080/"
        },
        "id": "UBohx9tW2bbB",
        "outputId": "b859eee2-29fd-4cf1-ea6b-a671bf0e7c57"
      },
      "source": [
        "# проверяем точность рандомного дерева\n",
        "# max_depth-максимальная шлубина дерева\n",
        "# predict-передает на предсказание тестовый X_holdout\n",
        "regr_tree = DecisionTreeRegressor(max_depth=5,random_state=17).fit(X_train,y_train)\n",
        "pred = regr_tree.predict(X_holdout)\n",
        "mean_absolute_error(y_holdout, pred)"
      ],
      "execution_count": null,
      "outputs": [
        {
          "output_type": "execute_result",
          "data": {
            "text/plain": [
              "0.19059044731424324"
            ]
          },
          "metadata": {
            "tags": []
          },
          "execution_count": 29
        }
      ]
    },
    {
      "cell_type": "code",
      "metadata": {
        "colab": {
          "base_uri": "https://localhost:8080/"
        },
        "id": "MAzMh74s5Zpu",
        "outputId": "cb94a7ea-71b0-42be-a6b1-9683f6c7cff2"
      },
      "source": [
        "# среднее значение по рейтингу\n",
        "# mean-среднее значение по рейтингу\n",
        "averege=data_frame['rating_ball'].mean()\n",
        "averege_pred = [averege]*len(y_holdout)\n",
        "mean_absolute_error(y_holdout, averege_pred)"
      ],
      "execution_count": null,
      "outputs": [
        {
          "output_type": "execute_result",
          "data": {
            "text/plain": [
              "0.18071696000000093"
            ]
          },
          "metadata": {
            "tags": []
          },
          "execution_count": 30
        }
      ]
    },
    {
      "cell_type": "code",
      "metadata": {
        "id": "_r3gihUK3I7f",
        "colab": {
          "base_uri": "https://localhost:8080/"
        },
        "outputId": "b2995b83-f013-4866-dd11-6c941f61fe05"
      },
      "source": [
        "dataf=\"Test.xlsx\"\n",
        "dataf=pd.read_excel(dataf)\n",
        "new_data=dataf['overview']+' '+dataf['actors']+' '+dataf['screenwriter']"
      ],
      "execution_count": null,
      "outputs": [
        {
          "output_type": "stream",
          "text": [
            "Drive already mounted at /content/drive/; to attempt to forcibly remount, call drive.mount(\"/content/drive/\", force_remount=True).\n"
          ],
          "name": "stdout"
        }
      ]
    },
    {
      "cell_type": "code",
      "metadata": {
        "colab": {
          "base_uri": "https://localhost:8080/"
        },
        "id": "7xnCxoUTs9Ub",
        "outputId": "fbd058e8-bf63-4144-d0a2-1ccc77cfe2b9"
      },
      "source": [
        "#использование других данных для теста (самый лучший день)\n",
        "# array([8.19314198]),в то время как реальный балл фильма 4.6\n",
        "# токенизирует столбик с аннотацией\n",
        "def tt(tit, wt):\n",
        "  return word_tokenize(tit)\n",
        "lem=pymorphy2.MorphAnalyzer()\n",
        "def lemmatize(tt, lem):\n",
        "  return [lem.parse(i)[0].normalized.word for i in tt]\n",
        "tok_dataf = new_data.apply(lambda x: tt(x, word_tokenize))\n",
        "tok_dataf = new_data.apply(word_tokenize)\n",
        "lem_dataf= tok_dataf.apply(lambda x: lemmatize(x, lem))\n",
        "x1=lem_dataf.apply(f_p)\n",
        "X1=vectorizer.transform(x1)\n",
        "regr_tree.predict(X1)"
      ],
      "execution_count": null,
      "outputs": [
        {
          "output_type": "execute_result",
          "data": {
            "text/plain": [
              "array([8.17519708])"
            ]
          },
          "metadata": {
            "tags": []
          },
          "execution_count": 52
        }
      ]
    }
  ]
}
